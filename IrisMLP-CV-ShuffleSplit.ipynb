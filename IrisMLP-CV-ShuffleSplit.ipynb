{
 "cells": [
  {
   "cell_type": "code",
   "execution_count": 1,
   "metadata": {},
   "outputs": [],
   "source": [
    "#Edgar Moises Hernandez-Gonzalez\n",
    "#02/07/19\n",
    "#Pruebas ShuffleSplit, no me gusta que algunos datos se repiten\n",
    "#pueden aparecer dos veces en el conjunto de pruebas\n",
    "#y unos datos nunca aparecen en el conjunto de pruebas"
   ]
  },
  {
   "cell_type": "code",
   "execution_count": 2,
   "metadata": {},
   "outputs": [],
   "source": [
    "from sklearn.datasets import load_iris\n",
    "from sklearn.model_selection import cross_val_score, ShuffleSplit\n",
    "from sklearn.neural_network import MLPClassifier"
   ]
  },
  {
   "cell_type": "code",
   "execution_count": 3,
   "metadata": {},
   "outputs": [],
   "source": [
    "iris = load_iris()"
   ]
  },
  {
   "cell_type": "code",
   "execution_count": 4,
   "metadata": {},
   "outputs": [],
   "source": [
    "clf = MLPClassifier()"
   ]
  },
  {
   "cell_type": "code",
   "execution_count": 5,
   "metadata": {},
   "outputs": [],
   "source": [
    "#cv = ShuffleSplit(n_splits = 5, test_size = 0.3, random_state = 0) ejemplo de scikit-learn\n",
    "cv = ShuffleSplit(n_splits = 5, test_size = 0.2, random_state = 0)"
   ]
  },
  {
   "cell_type": "code",
   "execution_count": 6,
   "metadata": {},
   "outputs": [
    {
     "name": "stderr",
     "output_type": "stream",
     "text": [
      "C:\\Users\\EdgarMoises\\Anaconda3\\lib\\site-packages\\sklearn\\neural_network\\multilayer_perceptron.py:564: ConvergenceWarning: Stochastic Optimizer: Maximum iterations (200) reached and the optimization hasn't converged yet.\n",
      "  % self.max_iter, ConvergenceWarning)\n",
      "C:\\Users\\EdgarMoises\\Anaconda3\\lib\\site-packages\\sklearn\\neural_network\\multilayer_perceptron.py:564: ConvergenceWarning: Stochastic Optimizer: Maximum iterations (200) reached and the optimization hasn't converged yet.\n",
      "  % self.max_iter, ConvergenceWarning)\n",
      "C:\\Users\\EdgarMoises\\Anaconda3\\lib\\site-packages\\sklearn\\neural_network\\multilayer_perceptron.py:564: ConvergenceWarning: Stochastic Optimizer: Maximum iterations (200) reached and the optimization hasn't converged yet.\n",
      "  % self.max_iter, ConvergenceWarning)\n",
      "C:\\Users\\EdgarMoises\\Anaconda3\\lib\\site-packages\\sklearn\\neural_network\\multilayer_perceptron.py:564: ConvergenceWarning: Stochastic Optimizer: Maximum iterations (200) reached and the optimization hasn't converged yet.\n",
      "  % self.max_iter, ConvergenceWarning)\n"
     ]
    },
    {
     "name": "stdout",
     "output_type": "stream",
     "text": [
      "[1.         0.96666667 0.96666667 1.         1.        ]\n",
      "0.9866666666666667\n"
     ]
    },
    {
     "name": "stderr",
     "output_type": "stream",
     "text": [
      "C:\\Users\\EdgarMoises\\Anaconda3\\lib\\site-packages\\sklearn\\neural_network\\multilayer_perceptron.py:564: ConvergenceWarning: Stochastic Optimizer: Maximum iterations (200) reached and the optimization hasn't converged yet.\n",
      "  % self.max_iter, ConvergenceWarning)\n"
     ]
    }
   ],
   "source": [
    "scores = cross_val_score(clf, iris.data, iris.target, cv=cv)\n",
    "print(scores)\n",
    "print(scores.mean())"
   ]
  },
  {
   "cell_type": "code",
   "execution_count": 7,
   "metadata": {},
   "outputs": [
    {
     "name": "stdout",
     "output_type": "stream",
     "text": [
      "[137  84  27 127 132  59  18  83  61  92 112   2 141  43  10  60 116 144\n",
      " 119 108  69 135  56  80 123 133 106 146  50 147  85  30 101  94  64  89\n",
      "  91 125  48  13 111  95  20  15  52   3 149  98   6  68 109  96  12 102\n",
      " 120 104 128  46  11 110 124  41 148   1 113 139  42   4 129  17  38   5\n",
      "  53 143 105   0  34  28  55  75  35  23  74  31 118  57 131  65  32 138\n",
      "  14 122  19  29 130  49 136  99  82  79 115 145  72  77  25  81 140 142\n",
      "  39  58  88  70  87  36  21   9 103  67 117  47]\n",
      "[114  62  33 107   7 100  40  86  76  71 134  51  73  54  63  37  78  90\n",
      "  45  16 121  66  24   8 126  22  44  97  93  26]\n",
      "\n",
      "[ 52 131 113  98  30 136  66 133  49  62  74  17 106   8 135  80 107  90\n",
      "   0  36 112   5  57 102  55  34 128  33  21  73   7  45 129 103 146 120\n",
      "  94  50 134  99 126 114   9  39  97 101  29  81  20  46  51  53  23  27\n",
      "   2  28  37 111  10  84 137 127  43  87  69 144 140  35  76   3  82 145\n",
      " 116  88  44 147   1  93  38  11 115  54  40  18  41  79  24  56  71  13\n",
      "  31  85  70 132 125 123 100  32 104  83 117 118 138  25 110  16  75 109\n",
      " 121  86 139   4  96  14  61  67 149  95  19  72]\n",
      "[ 92 141 130 119  48 143 122  63  26  64  42 108  91  77  22 148   6  65\n",
      "  47  68  60  15 124  58 142  12  59 105  89  78]\n",
      "\n",
      "[107  90   9 147 148  40  29  27  89  37  33  84  54  88  73 111 125 101\n",
      " 143  23 117  50 146   2 110 118 131  17   6 127  67 124  15  56 115 112\n",
      "  71 145 100  38  80 109  44 144 130  35  97  59  48 134  70  65  98 138\n",
      "  55  43 132 103  30 114  34  18 141 139  49  52  74  26  45 126  39   4\n",
      "  11  53 149  79   8   0   5 133  61 135   7  83  99  22  68  82  20  28\n",
      "  86  14  42  32  25  36  92  75  64 142 120  81  58  13 140  72  87 123\n",
      "  93  91 136  51 116  24  94 106  16  63 128 105]\n",
      "[ 85 137  77 108 122 104 121  12  31  96 113 102  60  66 119  62  76  69\n",
      "  46 129   1  10   3  95  21  41  57  47  78  19]\n",
      "\n",
      "[ 19 105  93  16 106  12  33  52  29  31  77  27  37  14  48   2  56   1\n",
      " 135  81  18 104 100  41  15 148  53  79   6  98 132  13  11  10 136  47\n",
      "  60  61 103 145  22 130  55  82 112 149  62 141 120  86  20  66  35  17\n",
      "  88   4  45  50  57  59  44  70  32  78 133 110  96  87  74  89  38  51\n",
      " 116  46  43   8  92 101  21 127 118  73  30 107 124   5   0  95  83  71\n",
      " 144 102 126 108  91  85  67   7  84  72  94 125 109  26  68  28 121   3\n",
      " 134  69  99  36  24  39 128 113 129  58 140 131]\n",
      "[114  49 138  23   9 122 146  80  90 117 111  75 147 143  97  76 123 139\n",
      " 137  54  34 115  64  65  25 142 119  40  63  42]\n",
      "\n",
      "[139  98  27   6  38  93   0  19  85  95  44  68 134  59 118  54 103   8\n",
      "  79  30  91 138 112  50  96 146  70  61  99  39  84 104 117 101  10   2\n",
      "   9  66  83 121  26  28  42  20  65 137 109 102  80  71 114  51 128  86\n",
      "  37  92  48 142 107 140 110  73  76  64  52 149 144  87  34  32 105  12\n",
      "  29 147 111  46  53   7 145  97  18  33 120  55  49 126  36  40 123   3\n",
      "  24  94  63 141  17   4  58  69  82 125  89  57  47  45  72  62  78  74\n",
      "  90 133 129 127 119  21  25 136  35  81  77 100]\n",
      "[ 15 143  23 108 124  31 132  22 113  41  14   5  88  16 135 122   1 115\n",
      "  67  13 130 116  11 106 148  56  43  75  60 131]\n",
      "\n"
     ]
    }
   ],
   "source": [
    "for iTrain, jTest in cv.split(iris.data):\n",
    "    print(iTrain)\n",
    "    print(jTest)\n",
    "    print()"
   ]
  }
 ],
 "metadata": {
  "kernelspec": {
   "display_name": "Python 3",
   "language": "python",
   "name": "python3"
  },
  "language_info": {
   "codemirror_mode": {
    "name": "ipython",
    "version": 3
   },
   "file_extension": ".py",
   "mimetype": "text/x-python",
   "name": "python",
   "nbconvert_exporter": "python",
   "pygments_lexer": "ipython3",
   "version": "3.7.3"
  }
 },
 "nbformat": 4,
 "nbformat_minor": 2
}
